{
 "cells": [
  {
   "cell_type": "code",
   "execution_count": 2,
   "metadata": {},
   "outputs": [],
   "source": [
    "# Perform basic setup\n",
    "!pip install -Uqq fastbook\n",
    "import fastbook\n",
    "fastbook.setup_book()"
   ]
  },
  {
   "cell_type": "code",
   "execution_count": 3,
   "metadata": {},
   "outputs": [],
   "source": [
    "# Import the required libraries\n",
    "from fastai.vision.all import *\n",
    "from fastbook import *\n",
    "\n",
    "from pathlib import Path"
   ]
  },
  {
   "cell_type": "code",
   "execution_count": 4,
   "metadata": {},
   "outputs": [],
   "source": [
    "# Default options for matplotlib\n",
    "matplotlib.rc('image', cmap='Greys')"
   ]
  },
  {
   "cell_type": "code",
   "execution_count": 5,
   "metadata": {},
   "outputs": [],
   "source": [
    "# Setup the path to the dataset\n",
    "home = Path.home()/'Dev'/'datasets'"
   ]
  },
  {
   "cell_type": "code",
   "execution_count": 6,
   "metadata": {},
   "outputs": [
    {
     "data": {
      "text/plain": [
       "(#3) [Path('/home/kilroy/Dev/datasets/mnist_sample/train'),Path('/home/kilroy/Dev/datasets/mnist_sample/valid'),Path('/home/kilroy/Dev/datasets/mnist_sample/labels.csv')]"
      ]
     },
     "execution_count": 6,
     "metadata": {},
     "output_type": "execute_result"
    }
   ],
   "source": [
    "# Set the path to the mnist data\n",
    "mnist_data = Path(home/'mnist_sample')\n",
    "mnist_data.ls()"
   ]
  },
  {
   "cell_type": "code",
   "execution_count": 7,
   "metadata": {},
   "outputs": [
    {
     "data": {
      "text/plain": [
       "(#2) [Path('/home/kilroy/Dev/datasets/mnist_sample/train/3'),Path('/home/kilroy/Dev/datasets/mnist_sample/train/7')]"
      ]
     },
     "execution_count": 7,
     "metadata": {},
     "output_type": "execute_result"
    }
   ],
   "source": [
    "# Check the train datasets\n",
    "(mnist_data/'train').ls()"
   ]
  },
  {
   "cell_type": "code",
   "execution_count": 8,
   "metadata": {},
   "outputs": [
    {
     "data": {
      "text/plain": [
       "(#6131) [Path('/home/kilroy/Dev/datasets/mnist_sample/train/3/54304.png'),Path('/home/kilroy/Dev/datasets/mnist_sample/train/3/41428.png'),Path('/home/kilroy/Dev/datasets/mnist_sample/train/3/58602.png'),Path('/home/kilroy/Dev/datasets/mnist_sample/train/3/8544.png'),Path('/home/kilroy/Dev/datasets/mnist_sample/train/3/4234.png'),Path('/home/kilroy/Dev/datasets/mnist_sample/train/3/44848.png'),Path('/home/kilroy/Dev/datasets/mnist_sample/train/3/33953.png'),Path('/home/kilroy/Dev/datasets/mnist_sample/train/3/21866.png'),Path('/home/kilroy/Dev/datasets/mnist_sample/train/3/46449.png'),Path('/home/kilroy/Dev/datasets/mnist_sample/train/3/24635.png')...]"
      ]
     },
     "execution_count": 8,
     "metadata": {},
     "output_type": "execute_result"
    }
   ],
   "source": [
    "# Check the contents of label 3\n",
    "(mnist_data/'train/3').ls()"
   ]
  },
  {
   "cell_type": "code",
   "execution_count": 9,
   "metadata": {},
   "outputs": [
    {
     "data": {
      "text/plain": [
       "(#6265) [Path('/home/kilroy/Dev/datasets/mnist_sample/train/7/46156.png'),Path('/home/kilroy/Dev/datasets/mnist_sample/train/7/48422.png'),Path('/home/kilroy/Dev/datasets/mnist_sample/train/7/59533.png'),Path('/home/kilroy/Dev/datasets/mnist_sample/train/7/18757.png'),Path('/home/kilroy/Dev/datasets/mnist_sample/train/7/632.png'),Path('/home/kilroy/Dev/datasets/mnist_sample/train/7/48619.png'),Path('/home/kilroy/Dev/datasets/mnist_sample/train/7/26916.png'),Path('/home/kilroy/Dev/datasets/mnist_sample/train/7/40435.png'),Path('/home/kilroy/Dev/datasets/mnist_sample/train/7/21483.png'),Path('/home/kilroy/Dev/datasets/mnist_sample/train/7/19493.png')...]"
      ]
     },
     "execution_count": 9,
     "metadata": {},
     "output_type": "execute_result"
    }
   ],
   "source": [
    "# Check the contents of label 7\n",
    "(mnist_data/'train/7').ls()"
   ]
  },
  {
   "cell_type": "code",
   "execution_count": 10,
   "metadata": {},
   "outputs": [],
   "source": [
    "# Sort the labels for consistency\n",
    "image_threes = (mnist_data/'train/3').ls().sorted()\n",
    "image_sevens = (mnist_data/'train/7').ls().sorted()"
   ]
  },
  {
   "cell_type": "code",
   "execution_count": 11,
   "metadata": {},
   "outputs": [
    {
     "data": {
      "image/png": "[encoded data removed]",
      "text/plain": [
       "<PIL.PngImagePlugin.PngImageFile image mode=L size=28x28 at 0x7F1080DBA820>"
      ]
     },
     "execution_count": 11,
     "metadata": {},
     "output_type": "execute_result"
    }
   ],
   "source": [
    "# Check a sample three\n",
    "Image.open(image_threes[1])"
   ]
  },
  {
   "cell_type": "code",
   "execution_count": 12,
   "metadata": {},
   "outputs": [
    {
     "data": {
      "image/png": "[encoded data removed]",
      "text/plain": [
       "<PIL.PngImagePlugin.PngImageFile image mode=L size=28x28 at 0x7F0F66AC78E0>"
      ]
     },
     "execution_count": 12,
     "metadata": {},
     "output_type": "execute_result"
    }
   ],
   "source": [
    "# Check a sample seven\n",
    "Image.open(image_sevens[0])"
   ]
  },
  {
   "cell_type": "code",
   "execution_count": 13,
   "metadata": {},
   "outputs": [],
   "source": [
    "# Create a tensor of sample image for reference\n",
    "image_sample = Image.open(image_threes[1])\n",
    "sample = tensor(image_sample)"
   ]
  },
  {
   "cell_type": "code",
   "execution_count": 14,
   "metadata": {},
   "outputs": [
    {
     "data": {
      "text/html": [
       "<style  type=\"text/css\" >\n",
       "#T_36946dac_7cca_11eb_a2fe_27c9307f09bdrow0_col0,#T_36946dac_7cca_11eb_a2fe_27c9307f09bdrow0_col1,#T_36946dac_7cca_11eb_a2fe_27c9307f09bdrow0_col2,#T_36946dac_7cca_11eb_a2fe_27c9307f09bdrow0_col3,#T_36946dac_7cca_11eb_a2fe_27c9307f09bdrow0_col4,#T_36946dac_7cca_11eb_a2fe_27c9307f09bdrow0_col5,#T_36946dac_7cca_11eb_a2fe_27c9307f09bdrow0_col6,#T_36946dac_7cca_11eb_a2fe_27c9307f09bdrow0_col7,#T_36946dac_7cca_11eb_a2fe_27c9307f09bdrow0_col8,#T_36946dac_7cca_11eb_a2fe_27c9307f09bdrow0_col9,#T_36946dac_7cca_11eb_a2fe_27c9307f09bdrow0_col10,#T_36946dac_7cca_11eb_a2fe_27c9307f09bdrow0_col11,#T_36946dac_7cca_11eb_a2fe_27c9307f09bdrow0_col12,#T_36946dac_7cca_11eb_a2fe_27c9307f09bdrow0_col13,#T_36946dac_7cca_11eb_a2fe_27c9307f09bdrow0_col14,#T_36946dac_7cca_11eb_a2fe_27c9307f09bdrow0_col15,#T_36946dac_7cca_11eb_a2fe_27c9307f09bdrow0_col16,#T_36946dac_7cca_11eb_a2fe_27c9307f09bdrow0_col17,#T_36946dac_7cca_11eb_a2fe_27c9307f09bdrow1_col0,#T_36946dac_7cca_11eb_a2fe_27c9307f09bdrow1_col1,#T_36946dac_7cca_11eb_a2fe_27c9307f09bdrow1_col2,#T_36946dac_7cca_11eb_a2fe_27c9307f09bdrow1_col3,#T_36946dac_7cca_11eb_a2fe_27c9307f09bdrow1_col4,#T_36946dac_7cca_11eb_a2fe_27c9307f09bdrow1_col15,#T_36946dac_7cca_11eb_a2fe_27c9307f09bdrow1_col16,#T_36946dac_7cca_11eb_a2fe_27c9307f09bdrow1_col17,#T_36946dac_7cca_11eb_a2fe_27c9307f09bdrow2_col0,#T_36946dac_7cca_11eb_a2fe_27c9307f09bdrow2_col1,#T_36946dac_7cca_11eb_a2fe_27c9307f09bdrow2_col2,#T_36946dac_7cca_11eb_a2fe_27c9307f09bdrow2_col15,#T_36946dac_7cca_11eb_a2fe_27c9307f09bdrow2_col16,#T_36946dac_7cca_11eb_a2fe_27c9307f09bdrow2_col17,#T_36946dac_7cca_11eb_a2fe_27c9307f09bdrow3_col0,#T_36946dac_7cca_11eb_a2fe_27c9307f09bdrow3_col15,#T_36946dac_7cca_11eb_a2fe_27c9307f09bdrow3_col16,#T_36946dac_7cca_11eb_a2fe_27c9307f09bdrow3_col17,#T_36946dac_7cca_11eb_a2fe_27c9307f09bdrow4_col0,#T_36946dac_7cca_11eb_a2fe_27c9307f09bdrow4_col6,#T_36946dac_7cca_11eb_a2fe_27c9307f09bdrow4_col7,#T_36946dac_7cca_11eb_a2fe_27c9307f09bdrow4_col8,#T_36946dac_7cca_11eb_a2fe_27c9307f09bdrow4_col9,#T_36946dac_7cca_11eb_a2fe_27c9307f09bdrow4_col10,#T_36946dac_7cca_11eb_a2fe_27c9307f09bdrow4_col15,#T_36946dac_7cca_11eb_a2fe_27c9307f09bdrow4_col16,#T_36946dac_7cca_11eb_a2fe_27c9307f09bdrow4_col17,#T_36946dac_7cca_11eb_a2fe_27c9307f09bdrow5_col0,#T_36946dac_7cca_11eb_a2fe_27c9307f09bdrow5_col5,#T_36946dac_7cca_11eb_a2fe_27c9307f09bdrow5_col6,#T_36946dac_7cca_11eb_a2fe_27c9307f09bdrow5_col7,#T_36946dac_7cca_11eb_a2fe_27c9307f09bdrow5_col8,#T_36946dac_7cca_11eb_a2fe_27c9307f09bdrow5_col9,#T_36946dac_7cca_11eb_a2fe_27c9307f09bdrow5_col15,#T_36946dac_7cca_11eb_a2fe_27c9307f09bdrow5_col16,#T_36946dac_7cca_11eb_a2fe_27c9307f09bdrow5_col17,#T_36946dac_7cca_11eb_a2fe_27c9307f09bdrow6_col0,#T_36946dac_7cca_11eb_a2fe_27c9307f09bdrow6_col1,#T_36946dac_7cca_11eb_a2fe_27c9307f09bdrow6_col2,#T_36946dac_7cca_11eb_a2fe_27c9307f09bdrow6_col3,#T_36946dac_7cca_11eb_a2fe_27c9307f09bdrow6_col4,#T_36946dac_7cca_11eb_a2fe_27c9307f09bdrow6_col5,#T_36946dac_7cca_11eb_a2fe_27c9307f09bdrow6_col6,#T_36946dac_7cca_11eb_a2fe_27c9307f09bdrow6_col7,#T_36946dac_7cca_11eb_a2fe_27c9307f09bdrow6_col8,#T_36946dac_7cca_11eb_a2fe_27c9307f09bdrow6_col9,#T_36946dac_7cca_11eb_a2fe_27c9307f09bdrow6_col14,#T_36946dac_7cca_11eb_a2fe_27c9307f09bdrow6_col15,#T_36946dac_7cca_11eb_a2fe_27c9307f09bdrow6_col16,#T_36946dac_7cca_11eb_a2fe_27c9307f09bdrow6_col17,#T_36946dac_7cca_11eb_a2fe_27c9307f09bdrow7_col0,#T_36946dac_7cca_11eb_a2fe_27c9307f09bdrow7_col1,#T_36946dac_7cca_11eb_a2fe_27c9307f09bdrow7_col2,#T_36946dac_7cca_11eb_a2fe_27c9307f09bdrow7_col3,#T_36946dac_7cca_11eb_a2fe_27c9307f09bdrow7_col4,#T_36946dac_7cca_11eb_a2fe_27c9307f09bdrow7_col5,#T_36946dac_7cca_11eb_a2fe_27c9307f09bdrow7_col6,#T_36946dac_7cca_11eb_a2fe_27c9307f09bdrow7_col13,#T_36946dac_7cca_11eb_a2fe_27c9307f09bdrow7_col14,#T_36946dac_7cca_11eb_a2fe_27c9307f09bdrow7_col15,#T_36946dac_7cca_11eb_a2fe_27c9307f09bdrow7_col16,#T_36946dac_7cca_11eb_a2fe_27c9307f09bdrow7_col17,#T_36946dac_7cca_11eb_a2fe_27c9307f09bdrow8_col0,#T_36946dac_7cca_11eb_a2fe_27c9307f09bdrow8_col1,#T_36946dac_7cca_11eb_a2fe_27c9307f09bdrow8_col2,#T_36946dac_7cca_11eb_a2fe_27c9307f09bdrow8_col3,#T_36946dac_7cca_11eb_a2fe_27c9307f09bdrow8_col4,#T_36946dac_7cca_11eb_a2fe_27c9307f09bdrow8_col13,#T_36946dac_7cca_11eb_a2fe_27c9307f09bdrow8_col14,#T_36946dac_7cca_11eb_a2fe_27c9307f09bdrow8_col15,#T_36946dac_7cca_11eb_a2fe_27c9307f09bdrow8_col16,#T_36946dac_7cca_11eb_a2fe_27c9307f09bdrow8_col17,#T_36946dac_7cca_11eb_a2fe_27c9307f09bdrow9_col0,#T_36946dac_7cca_11eb_a2fe_27c9307f09bdrow9_col1,#T_36946dac_7cca_11eb_a2fe_27c9307f09bdrow9_col2,#T_36946dac_7cca_11eb_a2fe_27c9307f09bdrow9_col3,#T_36946dac_7cca_11eb_a2fe_27c9307f09bdrow9_col4,#T_36946dac_7cca_11eb_a2fe_27c9307f09bdrow9_col16,#T_36946dac_7cca_11eb_a2fe_27c9307f09bdrow9_col17,#T_36946dac_7cca_11eb_a2fe_27c9307f09bdrow10_col0,#T_36946dac_7cca_11eb_a2fe_27c9307f09bdrow10_col1,#T_36946dac_7cca_11eb_a2fe_27c9307f09bdrow10_col2,#T_36946dac_7cca_11eb_a2fe_27c9307f09bdrow10_col3,#T_36946dac_7cca_11eb_a2fe_27c9307f09bdrow10_col4,#T_36946dac_7cca_11eb_a2fe_27c9307f09bdrow10_col5,#T_36946dac_7cca_11eb_a2fe_27c9307f09bdrow10_col6,#T_36946dac_7cca_11eb_a2fe_27c9307f09bdrow10_col17{\n",
       "            font-size:  6pt;\n",
       "            background-color:  #ffffff;\n",
       "            color:  #000000;\n",
       "        }#T_36946dac_7cca_11eb_a2fe_27c9307f09bdrow1_col5{\n",
       "            font-size:  6pt;\n",
       "            background-color:  #efefef;\n",
       "            color:  #000000;\n",
       "        }#T_36946dac_7cca_11eb_a2fe_27c9307f09bdrow1_col6,#T_36946dac_7cca_11eb_a2fe_27c9307f09bdrow1_col13{\n",
       "            font-size:  6pt;\n",
       "            background-color:  #7c7c7c;\n",
       "            color:  #000000;\n",
       "        }#T_36946dac_7cca_11eb_a2fe_27c9307f09bdrow1_col7{\n",
       "            font-size:  6pt;\n",
       "            background-color:  #4a4a4a;\n",
       "            color:  #f1f1f1;\n",
       "        }#T_36946dac_7cca_11eb_a2fe_27c9307f09bdrow1_col8,#T_36946dac_7cca_11eb_a2fe_27c9307f09bdrow1_col9,#T_36946dac_7cca_11eb_a2fe_27c9307f09bdrow1_col10,#T_36946dac_7cca_11eb_a2fe_27c9307f09bdrow2_col5,#T_36946dac_7cca_11eb_a2fe_27c9307f09bdrow2_col6,#T_36946dac_7cca_11eb_a2fe_27c9307f09bdrow2_col7,#T_36946dac_7cca_11eb_a2fe_27c9307f09bdrow2_col11,#T_36946dac_7cca_11eb_a2fe_27c9307f09bdrow2_col12,#T_36946dac_7cca_11eb_a2fe_27c9307f09bdrow2_col13,#T_36946dac_7cca_11eb_a2fe_27c9307f09bdrow3_col4,#T_36946dac_7cca_11eb_a2fe_27c9307f09bdrow3_col12,#T_36946dac_7cca_11eb_a2fe_27c9307f09bdrow3_col13,#T_36946dac_7cca_11eb_a2fe_27c9307f09bdrow4_col1,#T_36946dac_7cca_11eb_a2fe_27c9307f09bdrow4_col2,#T_36946dac_7cca_11eb_a2fe_27c9307f09bdrow4_col3,#T_36946dac_7cca_11eb_a2fe_27c9307f09bdrow4_col12,#T_36946dac_7cca_11eb_a2fe_27c9307f09bdrow4_col13,#T_36946dac_7cca_11eb_a2fe_27c9307f09bdrow5_col12,#T_36946dac_7cca_11eb_a2fe_27c9307f09bdrow6_col11,#T_36946dac_7cca_11eb_a2fe_27c9307f09bdrow9_col11,#T_36946dac_7cca_11eb_a2fe_27c9307f09bdrow10_col11,#T_36946dac_7cca_11eb_a2fe_27c9307f09bdrow10_col12,#T_36946dac_7cca_11eb_a2fe_27c9307f09bdrow10_col13,#T_36946dac_7cca_11eb_a2fe_27c9307f09bdrow10_col14,#T_36946dac_7cca_11eb_a2fe_27c9307f09bdrow10_col15,#T_36946dac_7cca_11eb_a2fe_27c9307f09bdrow10_col16{\n",
       "            font-size:  6pt;\n",
       "            background-color:  #000000;\n",
       "            color:  #f1f1f1;\n",
       "        }#T_36946dac_7cca_11eb_a2fe_27c9307f09bdrow1_col11{\n",
       "            font-size:  6pt;\n",
       "            background-color:  #606060;\n",
       "            color:  #f1f1f1;\n",
       "        }#T_36946dac_7cca_11eb_a2fe_27c9307f09bdrow1_col12{\n",
       "            font-size:  6pt;\n",
       "            background-color:  #4d4d4d;\n",
       "            color:  #f1f1f1;\n",
       "        }#T_36946dac_7cca_11eb_a2fe_27c9307f09bdrow1_col14{\n",
       "            font-size:  6pt;\n",
       "            background-color:  #bbbbbb;\n",
       "            color:  #000000;\n",
       "        }#T_36946dac_7cca_11eb_a2fe_27c9307f09bdrow2_col3{\n",
       "            font-size:  6pt;\n",
       "            background-color:  #e4e4e4;\n",
       "            color:  #000000;\n",
       "        }#T_36946dac_7cca_11eb_a2fe_27c9307f09bdrow2_col4,#T_36946dac_7cca_11eb_a2fe_27c9307f09bdrow8_col6{\n",
       "            font-size:  6pt;\n",
       "            background-color:  #6b6b6b;\n",
       "            color:  #000000;\n",
       "        }#T_36946dac_7cca_11eb_a2fe_27c9307f09bdrow2_col8,#T_36946dac_7cca_11eb_a2fe_27c9307f09bdrow2_col14,#T_36946dac_7cca_11eb_a2fe_27c9307f09bdrow3_col14{\n",
       "            font-size:  6pt;\n",
       "            background-color:  #171717;\n",
       "            color:  #f1f1f1;\n",
       "        }#T_36946dac_7cca_11eb_a2fe_27c9307f09bdrow2_col9,#T_36946dac_7cca_11eb_a2fe_27c9307f09bdrow3_col11{\n",
       "            font-size:  6pt;\n",
       "            background-color:  #4b4b4b;\n",
       "            color:  #f1f1f1;\n",
       "        }#T_36946dac_7cca_11eb_a2fe_27c9307f09bdrow2_col10,#T_36946dac_7cca_11eb_a2fe_27c9307f09bdrow7_col10,#T_36946dac_7cca_11eb_a2fe_27c9307f09bdrow8_col8,#T_36946dac_7cca_11eb_a2fe_27c9307f09bdrow8_col10,#T_36946dac_7cca_11eb_a2fe_27c9307f09bdrow9_col8,#T_36946dac_7cca_11eb_a2fe_27c9307f09bdrow9_col10{\n",
       "            font-size:  6pt;\n",
       "            background-color:  #010101;\n",
       "            color:  #f1f1f1;\n",
       "        }#T_36946dac_7cca_11eb_a2fe_27c9307f09bdrow3_col1{\n",
       "            font-size:  6pt;\n",
       "            background-color:  #272727;\n",
       "            color:  #f1f1f1;\n",
       "        }#T_36946dac_7cca_11eb_a2fe_27c9307f09bdrow3_col2{\n",
       "            font-size:  6pt;\n",
       "            background-color:  #0a0a0a;\n",
       "            color:  #f1f1f1;\n",
       "        }#T_36946dac_7cca_11eb_a2fe_27c9307f09bdrow3_col3{\n",
       "            font-size:  6pt;\n",
       "            background-color:  #050505;\n",
       "            color:  #f1f1f1;\n",
       "        }#T_36946dac_7cca_11eb_a2fe_27c9307f09bdrow3_col5{\n",
       "            font-size:  6pt;\n",
       "            background-color:  #333333;\n",
       "            color:  #f1f1f1;\n",
       "        }#T_36946dac_7cca_11eb_a2fe_27c9307f09bdrow3_col6{\n",
       "            font-size:  6pt;\n",
       "            background-color:  #e6e6e6;\n",
       "            color:  #000000;\n",
       "        }#T_36946dac_7cca_11eb_a2fe_27c9307f09bdrow3_col7,#T_36946dac_7cca_11eb_a2fe_27c9307f09bdrow3_col10{\n",
       "            font-size:  6pt;\n",
       "            background-color:  #fafafa;\n",
       "            color:  #000000;\n",
       "        }#T_36946dac_7cca_11eb_a2fe_27c9307f09bdrow3_col8{\n",
       "            font-size:  6pt;\n",
       "            background-color:  #fbfbfb;\n",
       "            color:  #000000;\n",
       "        }#T_36946dac_7cca_11eb_a2fe_27c9307f09bdrow3_col9{\n",
       "            font-size:  6pt;\n",
       "            background-color:  #fdfdfd;\n",
       "            color:  #000000;\n",
       "        }#T_36946dac_7cca_11eb_a2fe_27c9307f09bdrow4_col4{\n",
       "            font-size:  6pt;\n",
       "            background-color:  #1b1b1b;\n",
       "            color:  #f1f1f1;\n",
       "        }#T_36946dac_7cca_11eb_a2fe_27c9307f09bdrow4_col5{\n",
       "            font-size:  6pt;\n",
       "            background-color:  #e0e0e0;\n",
       "            color:  #000000;\n",
       "        }#T_36946dac_7cca_11eb_a2fe_27c9307f09bdrow4_col11{\n",
       "            font-size:  6pt;\n",
       "            background-color:  #4e4e4e;\n",
       "            color:  #f1f1f1;\n",
       "        }#T_36946dac_7cca_11eb_a2fe_27c9307f09bdrow4_col14{\n",
       "            font-size:  6pt;\n",
       "            background-color:  #767676;\n",
       "            color:  #000000;\n",
       "        }#T_36946dac_7cca_11eb_a2fe_27c9307f09bdrow5_col1{\n",
       "            font-size:  6pt;\n",
       "            background-color:  #fcfcfc;\n",
       "            color:  #000000;\n",
       "        }#T_36946dac_7cca_11eb_a2fe_27c9307f09bdrow5_col2,#T_36946dac_7cca_11eb_a2fe_27c9307f09bdrow5_col3{\n",
       "            font-size:  6pt;\n",
       "            background-color:  #f6f6f6;\n",
       "            color:  #000000;\n",
       "        }#T_36946dac_7cca_11eb_a2fe_27c9307f09bdrow5_col4,#T_36946dac_7cca_11eb_a2fe_27c9307f09bdrow7_col7{\n",
       "            font-size:  6pt;\n",
       "            background-color:  #f8f8f8;\n",
       "            color:  #000000;\n",
       "        }#T_36946dac_7cca_11eb_a2fe_27c9307f09bdrow5_col10,#T_36946dac_7cca_11eb_a2fe_27c9307f09bdrow10_col7{\n",
       "            font-size:  6pt;\n",
       "            background-color:  #e8e8e8;\n",
       "            color:  #000000;\n",
       "        }#T_36946dac_7cca_11eb_a2fe_27c9307f09bdrow5_col11{\n",
       "            font-size:  6pt;\n",
       "            background-color:  #222222;\n",
       "            color:  #f1f1f1;\n",
       "        }#T_36946dac_7cca_11eb_a2fe_27c9307f09bdrow5_col13,#T_36946dac_7cca_11eb_a2fe_27c9307f09bdrow6_col12{\n",
       "            font-size:  6pt;\n",
       "            background-color:  #090909;\n",
       "            color:  #f1f1f1;\n",
       "        }#T_36946dac_7cca_11eb_a2fe_27c9307f09bdrow5_col14{\n",
       "            font-size:  6pt;\n",
       "            background-color:  #d0d0d0;\n",
       "            color:  #000000;\n",
       "        }#T_36946dac_7cca_11eb_a2fe_27c9307f09bdrow6_col10,#T_36946dac_7cca_11eb_a2fe_27c9307f09bdrow7_col11,#T_36946dac_7cca_11eb_a2fe_27c9307f09bdrow9_col6{\n",
       "            font-size:  6pt;\n",
       "            background-color:  #060606;\n",
       "            color:  #f1f1f1;\n",
       "        }#T_36946dac_7cca_11eb_a2fe_27c9307f09bdrow6_col13{\n",
       "            font-size:  6pt;\n",
       "            background-color:  #979797;\n",
       "            color:  #000000;\n",
       "        }#T_36946dac_7cca_11eb_a2fe_27c9307f09bdrow7_col8{\n",
       "            font-size:  6pt;\n",
       "            background-color:  #b6b6b6;\n",
       "            color:  #000000;\n",
       "        }#T_36946dac_7cca_11eb_a2fe_27c9307f09bdrow7_col9{\n",
       "            font-size:  6pt;\n",
       "            background-color:  #252525;\n",
       "            color:  #f1f1f1;\n",
       "        }#T_36946dac_7cca_11eb_a2fe_27c9307f09bdrow7_col12{\n",
       "            font-size:  6pt;\n",
       "            background-color:  #999999;\n",
       "            color:  #000000;\n",
       "        }#T_36946dac_7cca_11eb_a2fe_27c9307f09bdrow8_col5{\n",
       "            font-size:  6pt;\n",
       "            background-color:  #f9f9f9;\n",
       "            color:  #000000;\n",
       "        }#T_36946dac_7cca_11eb_a2fe_27c9307f09bdrow8_col7{\n",
       "            font-size:  6pt;\n",
       "            background-color:  #101010;\n",
       "            color:  #f1f1f1;\n",
       "        }#T_36946dac_7cca_11eb_a2fe_27c9307f09bdrow8_col9,#T_36946dac_7cca_11eb_a2fe_27c9307f09bdrow9_col9{\n",
       "            font-size:  6pt;\n",
       "            background-color:  #020202;\n",
       "            color:  #f1f1f1;\n",
       "        }#T_36946dac_7cca_11eb_a2fe_27c9307f09bdrow8_col11{\n",
       "            font-size:  6pt;\n",
       "            background-color:  #545454;\n",
       "            color:  #f1f1f1;\n",
       "        }#T_36946dac_7cca_11eb_a2fe_27c9307f09bdrow8_col12{\n",
       "            font-size:  6pt;\n",
       "            background-color:  #f1f1f1;\n",
       "            color:  #000000;\n",
       "        }#T_36946dac_7cca_11eb_a2fe_27c9307f09bdrow9_col5{\n",
       "            font-size:  6pt;\n",
       "            background-color:  #f7f7f7;\n",
       "            color:  #000000;\n",
       "        }#T_36946dac_7cca_11eb_a2fe_27c9307f09bdrow9_col7{\n",
       "            font-size:  6pt;\n",
       "            background-color:  #030303;\n",
       "            color:  #f1f1f1;\n",
       "        }#T_36946dac_7cca_11eb_a2fe_27c9307f09bdrow9_col12{\n",
       "            font-size:  6pt;\n",
       "            background-color:  #181818;\n",
       "            color:  #f1f1f1;\n",
       "        }#T_36946dac_7cca_11eb_a2fe_27c9307f09bdrow9_col13{\n",
       "            font-size:  6pt;\n",
       "            background-color:  #303030;\n",
       "            color:  #f1f1f1;\n",
       "        }#T_36946dac_7cca_11eb_a2fe_27c9307f09bdrow9_col14{\n",
       "            font-size:  6pt;\n",
       "            background-color:  #a9a9a9;\n",
       "            color:  #000000;\n",
       "        }#T_36946dac_7cca_11eb_a2fe_27c9307f09bdrow9_col15{\n",
       "            font-size:  6pt;\n",
       "            background-color:  #fefefe;\n",
       "            color:  #000000;\n",
       "        }#T_36946dac_7cca_11eb_a2fe_27c9307f09bdrow10_col8,#T_36946dac_7cca_11eb_a2fe_27c9307f09bdrow10_col9{\n",
       "            font-size:  6pt;\n",
       "            background-color:  #bababa;\n",
       "            color:  #000000;\n",
       "        }#T_36946dac_7cca_11eb_a2fe_27c9307f09bdrow10_col10{\n",
       "            font-size:  6pt;\n",
       "            background-color:  #393939;\n",
       "            color:  #f1f1f1;\n",
       "        }</style><table id=\"T_36946dac_7cca_11eb_a2fe_27c9307f09bd\" ><thead>    <tr>        <th class=\"blank level0\" ></th>        <th class=\"col_heading level0 col0\" >0</th>        <th class=\"col_heading level0 col1\" >1</th>        <th class=\"col_heading level0 col2\" >2</th>        <th class=\"col_heading level0 col3\" >3</th>        <th class=\"col_heading level0 col4\" >4</th>        <th class=\"col_heading level0 col5\" >5</th>        <th class=\"col_heading level0 col6\" >6</th>        <th class=\"col_heading level0 col7\" >7</th>        <th class=\"col_heading level0 col8\" >8</th>        <th class=\"col_heading level0 col9\" >9</th>        <th class=\"col_heading level0 col10\" >10</th>        <th class=\"col_heading level0 col11\" >11</th>        <th class=\"col_heading level0 col12\" >12</th>        <th class=\"col_heading level0 col13\" >13</th>        <th class=\"col_heading level0 col14\" >14</th>        <th class=\"col_heading level0 col15\" >15</th>        <th class=\"col_heading level0 col16\" >16</th>        <th class=\"col_heading level0 col17\" >17</th>    </tr></thead><tbody>\n",
       "                <tr>\n",
       "                        <th id=\"T_36946dac_7cca_11eb_a2fe_27c9307f09bdlevel0_row0\" class=\"row_heading level0 row0\" >0</th>\n",
       "                        <td id=\"T_36946dac_7cca_11eb_a2fe_27c9307f09bdrow0_col0\" class=\"data row0 col0\" >0</td>\n",
       "                        <td id=\"T_36946dac_7cca_11eb_a2fe_27c9307f09bdrow0_col1\" class=\"data row0 col1\" >0</td>\n",
       "                        <td id=\"T_36946dac_7cca_11eb_a2fe_27c9307f09bdrow0_col2\" class=\"data row0 col2\" >0</td>\n",
       "                        <td id=\"T_36946dac_7cca_11eb_a2fe_27c9307f09bdrow0_col3\" class=\"data row0 col3\" >0</td>\n",
       "                        <td id=\"T_36946dac_7cca_11eb_a2fe_27c9307f09bdrow0_col4\" class=\"data row0 col4\" >0</td>\n",
       "                        <td id=\"T_36946dac_7cca_11eb_a2fe_27c9307f09bdrow0_col5\" class=\"data row0 col5\" >0</td>\n",
       "                        <td id=\"T_36946dac_7cca_11eb_a2fe_27c9307f09bdrow0_col6\" class=\"data row0 col6\" >0</td>\n",
       "                        <td id=\"T_36946dac_7cca_11eb_a2fe_27c9307f09bdrow0_col7\" class=\"data row0 col7\" >0</td>\n",
       "                        <td id=\"T_36946dac_7cca_11eb_a2fe_27c9307f09bdrow0_col8\" class=\"data row0 col8\" >0</td>\n",
       "                        <td id=\"T_36946dac_7cca_11eb_a2fe_27c9307f09bdrow0_col9\" class=\"data row0 col9\" >0</td>\n",
       "                        <td id=\"T_36946dac_7cca_11eb_a2fe_27c9307f09bdrow0_col10\" class=\"data row0 col10\" >0</td>\n",
       "                        <td id=\"T_36946dac_7cca_11eb_a2fe_27c9307f09bdrow0_col11\" class=\"data row0 col11\" >0</td>\n",
       "                        <td id=\"T_36946dac_7cca_11eb_a2fe_27c9307f09bdrow0_col12\" class=\"data row0 col12\" >0</td>\n",
       "                        <td id=\"T_36946dac_7cca_11eb_a2fe_27c9307f09bdrow0_col13\" class=\"data row0 col13\" >0</td>\n",
       "                        <td id=\"T_36946dac_7cca_11eb_a2fe_27c9307f09bdrow0_col14\" class=\"data row0 col14\" >0</td>\n",
       "                        <td id=\"T_36946dac_7cca_11eb_a2fe_27c9307f09bdrow0_col15\" class=\"data row0 col15\" >0</td>\n",
       "                        <td id=\"T_36946dac_7cca_11eb_a2fe_27c9307f09bdrow0_col16\" class=\"data row0 col16\" >0</td>\n",
       "                        <td id=\"T_36946dac_7cca_11eb_a2fe_27c9307f09bdrow0_col17\" class=\"data row0 col17\" >0</td>\n",
       "            </tr>\n",
       "            <tr>\n",
       "                        <th id=\"T_36946dac_7cca_11eb_a2fe_27c9307f09bdlevel0_row1\" class=\"row_heading level0 row1\" >1</th>\n",
       "                        <td id=\"T_36946dac_7cca_11eb_a2fe_27c9307f09bdrow1_col0\" class=\"data row1 col0\" >0</td>\n",
       "                        <td id=\"T_36946dac_7cca_11eb_a2fe_27c9307f09bdrow1_col1\" class=\"data row1 col1\" >0</td>\n",
       "                        <td id=\"T_36946dac_7cca_11eb_a2fe_27c9307f09bdrow1_col2\" class=\"data row1 col2\" >0</td>\n",
       "                        <td id=\"T_36946dac_7cca_11eb_a2fe_27c9307f09bdrow1_col3\" class=\"data row1 col3\" >0</td>\n",
       "                        <td id=\"T_36946dac_7cca_11eb_a2fe_27c9307f09bdrow1_col4\" class=\"data row1 col4\" >0</td>\n",
       "                        <td id=\"T_36946dac_7cca_11eb_a2fe_27c9307f09bdrow1_col5\" class=\"data row1 col5\" >29</td>\n",
       "                        <td id=\"T_36946dac_7cca_11eb_a2fe_27c9307f09bdrow1_col6\" class=\"data row1 col6\" >150</td>\n",
       "                        <td id=\"T_36946dac_7cca_11eb_a2fe_27c9307f09bdrow1_col7\" class=\"data row1 col7\" >195</td>\n",
       "                        <td id=\"T_36946dac_7cca_11eb_a2fe_27c9307f09bdrow1_col8\" class=\"data row1 col8\" >254</td>\n",
       "                        <td id=\"T_36946dac_7cca_11eb_a2fe_27c9307f09bdrow1_col9\" class=\"data row1 col9\" >255</td>\n",
       "                        <td id=\"T_36946dac_7cca_11eb_a2fe_27c9307f09bdrow1_col10\" class=\"data row1 col10\" >254</td>\n",
       "                        <td id=\"T_36946dac_7cca_11eb_a2fe_27c9307f09bdrow1_col11\" class=\"data row1 col11\" >176</td>\n",
       "                        <td id=\"T_36946dac_7cca_11eb_a2fe_27c9307f09bdrow1_col12\" class=\"data row1 col12\" >193</td>\n",
       "                        <td id=\"T_36946dac_7cca_11eb_a2fe_27c9307f09bdrow1_col13\" class=\"data row1 col13\" >150</td>\n",
       "                        <td id=\"T_36946dac_7cca_11eb_a2fe_27c9307f09bdrow1_col14\" class=\"data row1 col14\" >96</td>\n",
       "                        <td id=\"T_36946dac_7cca_11eb_a2fe_27c9307f09bdrow1_col15\" class=\"data row1 col15\" >0</td>\n",
       "                        <td id=\"T_36946dac_7cca_11eb_a2fe_27c9307f09bdrow1_col16\" class=\"data row1 col16\" >0</td>\n",
       "                        <td id=\"T_36946dac_7cca_11eb_a2fe_27c9307f09bdrow1_col17\" class=\"data row1 col17\" >0</td>\n",
       "            </tr>\n",
       "            <tr>\n",
       "                        <th id=\"T_36946dac_7cca_11eb_a2fe_27c9307f09bdlevel0_row2\" class=\"row_heading level0 row2\" >2</th>\n",
       "                        <td id=\"T_36946dac_7cca_11eb_a2fe_27c9307f09bdrow2_col0\" class=\"data row2 col0\" >0</td>\n",
       "                        <td id=\"T_36946dac_7cca_11eb_a2fe_27c9307f09bdrow2_col1\" class=\"data row2 col1\" >0</td>\n",
       "                        <td id=\"T_36946dac_7cca_11eb_a2fe_27c9307f09bdrow2_col2\" class=\"data row2 col2\" >0</td>\n",
       "                        <td id=\"T_36946dac_7cca_11eb_a2fe_27c9307f09bdrow2_col3\" class=\"data row2 col3\" >48</td>\n",
       "                        <td id=\"T_36946dac_7cca_11eb_a2fe_27c9307f09bdrow2_col4\" class=\"data row2 col4\" >166</td>\n",
       "                        <td id=\"T_36946dac_7cca_11eb_a2fe_27c9307f09bdrow2_col5\" class=\"data row2 col5\" >224</td>\n",
       "                        <td id=\"T_36946dac_7cca_11eb_a2fe_27c9307f09bdrow2_col6\" class=\"data row2 col6\" >253</td>\n",
       "                        <td id=\"T_36946dac_7cca_11eb_a2fe_27c9307f09bdrow2_col7\" class=\"data row2 col7\" >253</td>\n",
       "                        <td id=\"T_36946dac_7cca_11eb_a2fe_27c9307f09bdrow2_col8\" class=\"data row2 col8\" >234</td>\n",
       "                        <td id=\"T_36946dac_7cca_11eb_a2fe_27c9307f09bdrow2_col9\" class=\"data row2 col9\" >196</td>\n",
       "                        <td id=\"T_36946dac_7cca_11eb_a2fe_27c9307f09bdrow2_col10\" class=\"data row2 col10\" >253</td>\n",
       "                        <td id=\"T_36946dac_7cca_11eb_a2fe_27c9307f09bdrow2_col11\" class=\"data row2 col11\" >253</td>\n",
       "                        <td id=\"T_36946dac_7cca_11eb_a2fe_27c9307f09bdrow2_col12\" class=\"data row2 col12\" >253</td>\n",
       "                        <td id=\"T_36946dac_7cca_11eb_a2fe_27c9307f09bdrow2_col13\" class=\"data row2 col13\" >253</td>\n",
       "                        <td id=\"T_36946dac_7cca_11eb_a2fe_27c9307f09bdrow2_col14\" class=\"data row2 col14\" >233</td>\n",
       "                        <td id=\"T_36946dac_7cca_11eb_a2fe_27c9307f09bdrow2_col15\" class=\"data row2 col15\" >0</td>\n",
       "                        <td id=\"T_36946dac_7cca_11eb_a2fe_27c9307f09bdrow2_col16\" class=\"data row2 col16\" >0</td>\n",
       "                        <td id=\"T_36946dac_7cca_11eb_a2fe_27c9307f09bdrow2_col17\" class=\"data row2 col17\" >0</td>\n",
       "            </tr>\n",
       "            <tr>\n",
       "                        <th id=\"T_36946dac_7cca_11eb_a2fe_27c9307f09bdlevel0_row3\" class=\"row_heading level0 row3\" >3</th>\n",
       "                        <td id=\"T_36946dac_7cca_11eb_a2fe_27c9307f09bdrow3_col0\" class=\"data row3 col0\" >0</td>\n",
       "                        <td id=\"T_36946dac_7cca_11eb_a2fe_27c9307f09bdrow3_col1\" class=\"data row3 col1\" >93</td>\n",
       "                        <td id=\"T_36946dac_7cca_11eb_a2fe_27c9307f09bdrow3_col2\" class=\"data row3 col2\" >244</td>\n",
       "                        <td id=\"T_36946dac_7cca_11eb_a2fe_27c9307f09bdrow3_col3\" class=\"data row3 col3\" >249</td>\n",
       "                        <td id=\"T_36946dac_7cca_11eb_a2fe_27c9307f09bdrow3_col4\" class=\"data row3 col4\" >253</td>\n",
       "                        <td id=\"T_36946dac_7cca_11eb_a2fe_27c9307f09bdrow3_col5\" class=\"data row3 col5\" >187</td>\n",
       "                        <td id=\"T_36946dac_7cca_11eb_a2fe_27c9307f09bdrow3_col6\" class=\"data row3 col6\" >46</td>\n",
       "                        <td id=\"T_36946dac_7cca_11eb_a2fe_27c9307f09bdrow3_col7\" class=\"data row3 col7\" >10</td>\n",
       "                        <td id=\"T_36946dac_7cca_11eb_a2fe_27c9307f09bdrow3_col8\" class=\"data row3 col8\" >8</td>\n",
       "                        <td id=\"T_36946dac_7cca_11eb_a2fe_27c9307f09bdrow3_col9\" class=\"data row3 col9\" >4</td>\n",
       "                        <td id=\"T_36946dac_7cca_11eb_a2fe_27c9307f09bdrow3_col10\" class=\"data row3 col10\" >10</td>\n",
       "                        <td id=\"T_36946dac_7cca_11eb_a2fe_27c9307f09bdrow3_col11\" class=\"data row3 col11\" >194</td>\n",
       "                        <td id=\"T_36946dac_7cca_11eb_a2fe_27c9307f09bdrow3_col12\" class=\"data row3 col12\" >253</td>\n",
       "                        <td id=\"T_36946dac_7cca_11eb_a2fe_27c9307f09bdrow3_col13\" class=\"data row3 col13\" >253</td>\n",
       "                        <td id=\"T_36946dac_7cca_11eb_a2fe_27c9307f09bdrow3_col14\" class=\"data row3 col14\" >233</td>\n",
       "                        <td id=\"T_36946dac_7cca_11eb_a2fe_27c9307f09bdrow3_col15\" class=\"data row3 col15\" >0</td>\n",
       "                        <td id=\"T_36946dac_7cca_11eb_a2fe_27c9307f09bdrow3_col16\" class=\"data row3 col16\" >0</td>\n",
       "                        <td id=\"T_36946dac_7cca_11eb_a2fe_27c9307f09bdrow3_col17\" class=\"data row3 col17\" >0</td>\n",
       "            </tr>\n",
       "            <tr>\n",
       "                        <th id=\"T_36946dac_7cca_11eb_a2fe_27c9307f09bdlevel0_row4\" class=\"row_heading level0 row4\" >4</th>\n",
       "                        <td id=\"T_36946dac_7cca_11eb_a2fe_27c9307f09bdrow4_col0\" class=\"data row4 col0\" >0</td>\n",
       "                        <td id=\"T_36946dac_7cca_11eb_a2fe_27c9307f09bdrow4_col1\" class=\"data row4 col1\" >107</td>\n",
       "                        <td id=\"T_36946dac_7cca_11eb_a2fe_27c9307f09bdrow4_col2\" class=\"data row4 col2\" >253</td>\n",
       "                        <td id=\"T_36946dac_7cca_11eb_a2fe_27c9307f09bdrow4_col3\" class=\"data row4 col3\" >253</td>\n",
       "                        <td id=\"T_36946dac_7cca_11eb_a2fe_27c9307f09bdrow4_col4\" class=\"data row4 col4\" >230</td>\n",
       "                        <td id=\"T_36946dac_7cca_11eb_a2fe_27c9307f09bdrow4_col5\" class=\"data row4 col5\" >48</td>\n",
       "                        <td id=\"T_36946dac_7cca_11eb_a2fe_27c9307f09bdrow4_col6\" class=\"data row4 col6\" >0</td>\n",
       "                        <td id=\"T_36946dac_7cca_11eb_a2fe_27c9307f09bdrow4_col7\" class=\"data row4 col7\" >0</td>\n",
       "                        <td id=\"T_36946dac_7cca_11eb_a2fe_27c9307f09bdrow4_col8\" class=\"data row4 col8\" >0</td>\n",
       "                        <td id=\"T_36946dac_7cca_11eb_a2fe_27c9307f09bdrow4_col9\" class=\"data row4 col9\" >0</td>\n",
       "                        <td id=\"T_36946dac_7cca_11eb_a2fe_27c9307f09bdrow4_col10\" class=\"data row4 col10\" >0</td>\n",
       "                        <td id=\"T_36946dac_7cca_11eb_a2fe_27c9307f09bdrow4_col11\" class=\"data row4 col11\" >192</td>\n",
       "                        <td id=\"T_36946dac_7cca_11eb_a2fe_27c9307f09bdrow4_col12\" class=\"data row4 col12\" >253</td>\n",
       "                        <td id=\"T_36946dac_7cca_11eb_a2fe_27c9307f09bdrow4_col13\" class=\"data row4 col13\" >253</td>\n",
       "                        <td id=\"T_36946dac_7cca_11eb_a2fe_27c9307f09bdrow4_col14\" class=\"data row4 col14\" >156</td>\n",
       "                        <td id=\"T_36946dac_7cca_11eb_a2fe_27c9307f09bdrow4_col15\" class=\"data row4 col15\" >0</td>\n",
       "                        <td id=\"T_36946dac_7cca_11eb_a2fe_27c9307f09bdrow4_col16\" class=\"data row4 col16\" >0</td>\n",
       "                        <td id=\"T_36946dac_7cca_11eb_a2fe_27c9307f09bdrow4_col17\" class=\"data row4 col17\" >0</td>\n",
       "            </tr>\n",
       "            <tr>\n",
       "                        <th id=\"T_36946dac_7cca_11eb_a2fe_27c9307f09bdlevel0_row5\" class=\"row_heading level0 row5\" >5</th>\n",
       "                        <td id=\"T_36946dac_7cca_11eb_a2fe_27c9307f09bdrow5_col0\" class=\"data row5 col0\" >0</td>\n",
       "                        <td id=\"T_36946dac_7cca_11eb_a2fe_27c9307f09bdrow5_col1\" class=\"data row5 col1\" >3</td>\n",
       "                        <td id=\"T_36946dac_7cca_11eb_a2fe_27c9307f09bdrow5_col2\" class=\"data row5 col2\" >20</td>\n",
       "                        <td id=\"T_36946dac_7cca_11eb_a2fe_27c9307f09bdrow5_col3\" class=\"data row5 col3\" >20</td>\n",
       "                        <td id=\"T_36946dac_7cca_11eb_a2fe_27c9307f09bdrow5_col4\" class=\"data row5 col4\" >15</td>\n",
       "                        <td id=\"T_36946dac_7cca_11eb_a2fe_27c9307f09bdrow5_col5\" class=\"data row5 col5\" >0</td>\n",
       "                        <td id=\"T_36946dac_7cca_11eb_a2fe_27c9307f09bdrow5_col6\" class=\"data row5 col6\" >0</td>\n",
       "                        <td id=\"T_36946dac_7cca_11eb_a2fe_27c9307f09bdrow5_col7\" class=\"data row5 col7\" >0</td>\n",
       "                        <td id=\"T_36946dac_7cca_11eb_a2fe_27c9307f09bdrow5_col8\" class=\"data row5 col8\" >0</td>\n",
       "                        <td id=\"T_36946dac_7cca_11eb_a2fe_27c9307f09bdrow5_col9\" class=\"data row5 col9\" >0</td>\n",
       "                        <td id=\"T_36946dac_7cca_11eb_a2fe_27c9307f09bdrow5_col10\" class=\"data row5 col10\" >43</td>\n",
       "                        <td id=\"T_36946dac_7cca_11eb_a2fe_27c9307f09bdrow5_col11\" class=\"data row5 col11\" >224</td>\n",
       "                        <td id=\"T_36946dac_7cca_11eb_a2fe_27c9307f09bdrow5_col12\" class=\"data row5 col12\" >253</td>\n",
       "                        <td id=\"T_36946dac_7cca_11eb_a2fe_27c9307f09bdrow5_col13\" class=\"data row5 col13\" >245</td>\n",
       "                        <td id=\"T_36946dac_7cca_11eb_a2fe_27c9307f09bdrow5_col14\" class=\"data row5 col14\" >74</td>\n",
       "                        <td id=\"T_36946dac_7cca_11eb_a2fe_27c9307f09bdrow5_col15\" class=\"data row5 col15\" >0</td>\n",
       "                        <td id=\"T_36946dac_7cca_11eb_a2fe_27c9307f09bdrow5_col16\" class=\"data row5 col16\" >0</td>\n",
       "                        <td id=\"T_36946dac_7cca_11eb_a2fe_27c9307f09bdrow5_col17\" class=\"data row5 col17\" >0</td>\n",
       "            </tr>\n",
       "            <tr>\n",
       "                        <th id=\"T_36946dac_7cca_11eb_a2fe_27c9307f09bdlevel0_row6\" class=\"row_heading level0 row6\" >6</th>\n",
       "                        <td id=\"T_36946dac_7cca_11eb_a2fe_27c9307f09bdrow6_col0\" class=\"data row6 col0\" >0</td>\n",
       "                        <td id=\"T_36946dac_7cca_11eb_a2fe_27c9307f09bdrow6_col1\" class=\"data row6 col1\" >0</td>\n",
       "                        <td id=\"T_36946dac_7cca_11eb_a2fe_27c9307f09bdrow6_col2\" class=\"data row6 col2\" >0</td>\n",
       "                        <td id=\"T_36946dac_7cca_11eb_a2fe_27c9307f09bdrow6_col3\" class=\"data row6 col3\" >0</td>\n",
       "                        <td id=\"T_36946dac_7cca_11eb_a2fe_27c9307f09bdrow6_col4\" class=\"data row6 col4\" >0</td>\n",
       "                        <td id=\"T_36946dac_7cca_11eb_a2fe_27c9307f09bdrow6_col5\" class=\"data row6 col5\" >0</td>\n",
       "                        <td id=\"T_36946dac_7cca_11eb_a2fe_27c9307f09bdrow6_col6\" class=\"data row6 col6\" >0</td>\n",
       "                        <td id=\"T_36946dac_7cca_11eb_a2fe_27c9307f09bdrow6_col7\" class=\"data row6 col7\" >0</td>\n",
       "                        <td id=\"T_36946dac_7cca_11eb_a2fe_27c9307f09bdrow6_col8\" class=\"data row6 col8\" >0</td>\n",
       "                        <td id=\"T_36946dac_7cca_11eb_a2fe_27c9307f09bdrow6_col9\" class=\"data row6 col9\" >0</td>\n",
       "                        <td id=\"T_36946dac_7cca_11eb_a2fe_27c9307f09bdrow6_col10\" class=\"data row6 col10\" >249</td>\n",
       "                        <td id=\"T_36946dac_7cca_11eb_a2fe_27c9307f09bdrow6_col11\" class=\"data row6 col11\" >253</td>\n",
       "                        <td id=\"T_36946dac_7cca_11eb_a2fe_27c9307f09bdrow6_col12\" class=\"data row6 col12\" >245</td>\n",
       "                        <td id=\"T_36946dac_7cca_11eb_a2fe_27c9307f09bdrow6_col13\" class=\"data row6 col13\" >126</td>\n",
       "                        <td id=\"T_36946dac_7cca_11eb_a2fe_27c9307f09bdrow6_col14\" class=\"data row6 col14\" >0</td>\n",
       "                        <td id=\"T_36946dac_7cca_11eb_a2fe_27c9307f09bdrow6_col15\" class=\"data row6 col15\" >0</td>\n",
       "                        <td id=\"T_36946dac_7cca_11eb_a2fe_27c9307f09bdrow6_col16\" class=\"data row6 col16\" >0</td>\n",
       "                        <td id=\"T_36946dac_7cca_11eb_a2fe_27c9307f09bdrow6_col17\" class=\"data row6 col17\" >0</td>\n",
       "            </tr>\n",
       "            <tr>\n",
       "                        <th id=\"T_36946dac_7cca_11eb_a2fe_27c9307f09bdlevel0_row7\" class=\"row_heading level0 row7\" >7</th>\n",
       "                        <td id=\"T_36946dac_7cca_11eb_a2fe_27c9307f09bdrow7_col0\" class=\"data row7 col0\" >0</td>\n",
       "                        <td id=\"T_36946dac_7cca_11eb_a2fe_27c9307f09bdrow7_col1\" class=\"data row7 col1\" >0</td>\n",
       "                        <td id=\"T_36946dac_7cca_11eb_a2fe_27c9307f09bdrow7_col2\" class=\"data row7 col2\" >0</td>\n",
       "                        <td id=\"T_36946dac_7cca_11eb_a2fe_27c9307f09bdrow7_col3\" class=\"data row7 col3\" >0</td>\n",
       "                        <td id=\"T_36946dac_7cca_11eb_a2fe_27c9307f09bdrow7_col4\" class=\"data row7 col4\" >0</td>\n",
       "                        <td id=\"T_36946dac_7cca_11eb_a2fe_27c9307f09bdrow7_col5\" class=\"data row7 col5\" >0</td>\n",
       "                        <td id=\"T_36946dac_7cca_11eb_a2fe_27c9307f09bdrow7_col6\" class=\"data row7 col6\" >0</td>\n",
       "                        <td id=\"T_36946dac_7cca_11eb_a2fe_27c9307f09bdrow7_col7\" class=\"data row7 col7\" >14</td>\n",
       "                        <td id=\"T_36946dac_7cca_11eb_a2fe_27c9307f09bdrow7_col8\" class=\"data row7 col8\" >101</td>\n",
       "                        <td id=\"T_36946dac_7cca_11eb_a2fe_27c9307f09bdrow7_col9\" class=\"data row7 col9\" >223</td>\n",
       "                        <td id=\"T_36946dac_7cca_11eb_a2fe_27c9307f09bdrow7_col10\" class=\"data row7 col10\" >253</td>\n",
       "                        <td id=\"T_36946dac_7cca_11eb_a2fe_27c9307f09bdrow7_col11\" class=\"data row7 col11\" >248</td>\n",
       "                        <td id=\"T_36946dac_7cca_11eb_a2fe_27c9307f09bdrow7_col12\" class=\"data row7 col12\" >124</td>\n",
       "                        <td id=\"T_36946dac_7cca_11eb_a2fe_27c9307f09bdrow7_col13\" class=\"data row7 col13\" >0</td>\n",
       "                        <td id=\"T_36946dac_7cca_11eb_a2fe_27c9307f09bdrow7_col14\" class=\"data row7 col14\" >0</td>\n",
       "                        <td id=\"T_36946dac_7cca_11eb_a2fe_27c9307f09bdrow7_col15\" class=\"data row7 col15\" >0</td>\n",
       "                        <td id=\"T_36946dac_7cca_11eb_a2fe_27c9307f09bdrow7_col16\" class=\"data row7 col16\" >0</td>\n",
       "                        <td id=\"T_36946dac_7cca_11eb_a2fe_27c9307f09bdrow7_col17\" class=\"data row7 col17\" >0</td>\n",
       "            </tr>\n",
       "            <tr>\n",
       "                        <th id=\"T_36946dac_7cca_11eb_a2fe_27c9307f09bdlevel0_row8\" class=\"row_heading level0 row8\" >8</th>\n",
       "                        <td id=\"T_36946dac_7cca_11eb_a2fe_27c9307f09bdrow8_col0\" class=\"data row8 col0\" >0</td>\n",
       "                        <td id=\"T_36946dac_7cca_11eb_a2fe_27c9307f09bdrow8_col1\" class=\"data row8 col1\" >0</td>\n",
       "                        <td id=\"T_36946dac_7cca_11eb_a2fe_27c9307f09bdrow8_col2\" class=\"data row8 col2\" >0</td>\n",
       "                        <td id=\"T_36946dac_7cca_11eb_a2fe_27c9307f09bdrow8_col3\" class=\"data row8 col3\" >0</td>\n",
       "                        <td id=\"T_36946dac_7cca_11eb_a2fe_27c9307f09bdrow8_col4\" class=\"data row8 col4\" >0</td>\n",
       "                        <td id=\"T_36946dac_7cca_11eb_a2fe_27c9307f09bdrow8_col5\" class=\"data row8 col5\" >11</td>\n",
       "                        <td id=\"T_36946dac_7cca_11eb_a2fe_27c9307f09bdrow8_col6\" class=\"data row8 col6\" >166</td>\n",
       "                        <td id=\"T_36946dac_7cca_11eb_a2fe_27c9307f09bdrow8_col7\" class=\"data row8 col7\" >239</td>\n",
       "                        <td id=\"T_36946dac_7cca_11eb_a2fe_27c9307f09bdrow8_col8\" class=\"data row8 col8\" >253</td>\n",
       "                        <td id=\"T_36946dac_7cca_11eb_a2fe_27c9307f09bdrow8_col9\" class=\"data row8 col9\" >253</td>\n",
       "                        <td id=\"T_36946dac_7cca_11eb_a2fe_27c9307f09bdrow8_col10\" class=\"data row8 col10\" >253</td>\n",
       "                        <td id=\"T_36946dac_7cca_11eb_a2fe_27c9307f09bdrow8_col11\" class=\"data row8 col11\" >187</td>\n",
       "                        <td id=\"T_36946dac_7cca_11eb_a2fe_27c9307f09bdrow8_col12\" class=\"data row8 col12\" >30</td>\n",
       "                        <td id=\"T_36946dac_7cca_11eb_a2fe_27c9307f09bdrow8_col13\" class=\"data row8 col13\" >0</td>\n",
       "                        <td id=\"T_36946dac_7cca_11eb_a2fe_27c9307f09bdrow8_col14\" class=\"data row8 col14\" >0</td>\n",
       "                        <td id=\"T_36946dac_7cca_11eb_a2fe_27c9307f09bdrow8_col15\" class=\"data row8 col15\" >0</td>\n",
       "                        <td id=\"T_36946dac_7cca_11eb_a2fe_27c9307f09bdrow8_col16\" class=\"data row8 col16\" >0</td>\n",
       "                        <td id=\"T_36946dac_7cca_11eb_a2fe_27c9307f09bdrow8_col17\" class=\"data row8 col17\" >0</td>\n",
       "            </tr>\n",
       "            <tr>\n",
       "                        <th id=\"T_36946dac_7cca_11eb_a2fe_27c9307f09bdlevel0_row9\" class=\"row_heading level0 row9\" >9</th>\n",
       "                        <td id=\"T_36946dac_7cca_11eb_a2fe_27c9307f09bdrow9_col0\" class=\"data row9 col0\" >0</td>\n",
       "                        <td id=\"T_36946dac_7cca_11eb_a2fe_27c9307f09bdrow9_col1\" class=\"data row9 col1\" >0</td>\n",
       "                        <td id=\"T_36946dac_7cca_11eb_a2fe_27c9307f09bdrow9_col2\" class=\"data row9 col2\" >0</td>\n",
       "                        <td id=\"T_36946dac_7cca_11eb_a2fe_27c9307f09bdrow9_col3\" class=\"data row9 col3\" >0</td>\n",
       "                        <td id=\"T_36946dac_7cca_11eb_a2fe_27c9307f09bdrow9_col4\" class=\"data row9 col4\" >0</td>\n",
       "                        <td id=\"T_36946dac_7cca_11eb_a2fe_27c9307f09bdrow9_col5\" class=\"data row9 col5\" >16</td>\n",
       "                        <td id=\"T_36946dac_7cca_11eb_a2fe_27c9307f09bdrow9_col6\" class=\"data row9 col6\" >248</td>\n",
       "                        <td id=\"T_36946dac_7cca_11eb_a2fe_27c9307f09bdrow9_col7\" class=\"data row9 col7\" >250</td>\n",
       "                        <td id=\"T_36946dac_7cca_11eb_a2fe_27c9307f09bdrow9_col8\" class=\"data row9 col8\" >253</td>\n",
       "                        <td id=\"T_36946dac_7cca_11eb_a2fe_27c9307f09bdrow9_col9\" class=\"data row9 col9\" >253</td>\n",
       "                        <td id=\"T_36946dac_7cca_11eb_a2fe_27c9307f09bdrow9_col10\" class=\"data row9 col10\" >253</td>\n",
       "                        <td id=\"T_36946dac_7cca_11eb_a2fe_27c9307f09bdrow9_col11\" class=\"data row9 col11\" >253</td>\n",
       "                        <td id=\"T_36946dac_7cca_11eb_a2fe_27c9307f09bdrow9_col12\" class=\"data row9 col12\" >232</td>\n",
       "                        <td id=\"T_36946dac_7cca_11eb_a2fe_27c9307f09bdrow9_col13\" class=\"data row9 col13\" >213</td>\n",
       "                        <td id=\"T_36946dac_7cca_11eb_a2fe_27c9307f09bdrow9_col14\" class=\"data row9 col14\" >111</td>\n",
       "                        <td id=\"T_36946dac_7cca_11eb_a2fe_27c9307f09bdrow9_col15\" class=\"data row9 col15\" >2</td>\n",
       "                        <td id=\"T_36946dac_7cca_11eb_a2fe_27c9307f09bdrow9_col16\" class=\"data row9 col16\" >0</td>\n",
       "                        <td id=\"T_36946dac_7cca_11eb_a2fe_27c9307f09bdrow9_col17\" class=\"data row9 col17\" >0</td>\n",
       "            </tr>\n",
       "            <tr>\n",
       "                        <th id=\"T_36946dac_7cca_11eb_a2fe_27c9307f09bdlevel0_row10\" class=\"row_heading level0 row10\" >10</th>\n",
       "                        <td id=\"T_36946dac_7cca_11eb_a2fe_27c9307f09bdrow10_col0\" class=\"data row10 col0\" >0</td>\n",
       "                        <td id=\"T_36946dac_7cca_11eb_a2fe_27c9307f09bdrow10_col1\" class=\"data row10 col1\" >0</td>\n",
       "                        <td id=\"T_36946dac_7cca_11eb_a2fe_27c9307f09bdrow10_col2\" class=\"data row10 col2\" >0</td>\n",
       "                        <td id=\"T_36946dac_7cca_11eb_a2fe_27c9307f09bdrow10_col3\" class=\"data row10 col3\" >0</td>\n",
       "                        <td id=\"T_36946dac_7cca_11eb_a2fe_27c9307f09bdrow10_col4\" class=\"data row10 col4\" >0</td>\n",
       "                        <td id=\"T_36946dac_7cca_11eb_a2fe_27c9307f09bdrow10_col5\" class=\"data row10 col5\" >0</td>\n",
       "                        <td id=\"T_36946dac_7cca_11eb_a2fe_27c9307f09bdrow10_col6\" class=\"data row10 col6\" >0</td>\n",
       "                        <td id=\"T_36946dac_7cca_11eb_a2fe_27c9307f09bdrow10_col7\" class=\"data row10 col7\" >43</td>\n",
       "                        <td id=\"T_36946dac_7cca_11eb_a2fe_27c9307f09bdrow10_col8\" class=\"data row10 col8\" >98</td>\n",
       "                        <td id=\"T_36946dac_7cca_11eb_a2fe_27c9307f09bdrow10_col9\" class=\"data row10 col9\" >98</td>\n",
       "                        <td id=\"T_36946dac_7cca_11eb_a2fe_27c9307f09bdrow10_col10\" class=\"data row10 col10\" >208</td>\n",
       "                        <td id=\"T_36946dac_7cca_11eb_a2fe_27c9307f09bdrow10_col11\" class=\"data row10 col11\" >253</td>\n",
       "                        <td id=\"T_36946dac_7cca_11eb_a2fe_27c9307f09bdrow10_col12\" class=\"data row10 col12\" >253</td>\n",
       "                        <td id=\"T_36946dac_7cca_11eb_a2fe_27c9307f09bdrow10_col13\" class=\"data row10 col13\" >253</td>\n",
       "                        <td id=\"T_36946dac_7cca_11eb_a2fe_27c9307f09bdrow10_col14\" class=\"data row10 col14\" >253</td>\n",
       "                        <td id=\"T_36946dac_7cca_11eb_a2fe_27c9307f09bdrow10_col15\" class=\"data row10 col15\" >187</td>\n",
       "                        <td id=\"T_36946dac_7cca_11eb_a2fe_27c9307f09bdrow10_col16\" class=\"data row10 col16\" >22</td>\n",
       "                        <td id=\"T_36946dac_7cca_11eb_a2fe_27c9307f09bdrow10_col17\" class=\"data row10 col17\" >0</td>\n",
       "            </tr>\n",
       "    </tbody></table>"
      ],
      "text/plain": [
       "<pandas.io.formats.style.Styler at 0x7f0f66ac7f10>"
      ]
     },
     "execution_count": 14,
     "metadata": {},
     "output_type": "execute_result"
    }
   ],
   "source": [
    "# Render a slice of the tensor using gradients\n",
    "df = pd.DataFrame(sample[4:15, 4:22])\n",
    "df.style.set_properties(**{'font-size' : '6pt'}).background_gradient('Greys')"
   ]
  },
  {
   "cell_type": "code",
   "execution_count": 67,
   "metadata": {},
   "outputs": [],
   "source": [
    "# List all the 3's and 7's tensors respectively\n",
    "threes = [tensor(Image.open(i)) for i in image_threes]\n",
    "sevens = [tensor(Image.open(i)) for i in image_sevens]"
   ]
  },
  {
   "cell_type": "code",
   "execution_count": 68,
   "metadata": {},
   "outputs": [
    {
     "data": {
      "text/plain": [
       "(6131, 6265)"
      ]
     },
     "execution_count": 68,
     "metadata": {},
     "output_type": "execute_result"
    }
   ],
   "source": [
    "# Check the length of the lists\n",
    "len(threes), len(sevens)"
   ]
  },
  {
   "cell_type": "code",
   "execution_count": 69,
   "metadata": {},
   "outputs": [
    {
     "data": {
      "text/plain": [
       "<AxesSubplot:>"
      ]
     },
     "execution_count": 69,
     "metadata": {},
     "output_type": "execute_result"
    },
    {
     "data": {
      "image/png": "[encoded data removed]",
      "text/plain": [
       "<Figure size 72x72 with 1 Axes>"
      ]
     },
     "metadata": {
      "needs_background": "light"
     },
     "output_type": "display_data"
    }
   ],
   "source": [
    "# Check an image\n",
    "show_image(threes[1])"
   ]
  },
  {
   "cell_type": "code",
   "execution_count": 70,
   "metadata": {},
   "outputs": [],
   "source": [
    "# Convert each list into a single stacked tensor and normalize pixel values\n",
    "three = torch.stack(threes).float()/255\n",
    "seven = torch.stack(sevens).float()/255"
   ]
  },
  {
   "cell_type": "code",
   "execution_count": 71,
   "metadata": {},
   "outputs": [
    {
     "data": {
      "text/plain": [
       "(torch.Size([6131, 28, 28]), torch.Size([6265, 28, 28]))"
      ]
     },
     "execution_count": 71,
     "metadata": {},
     "output_type": "execute_result"
    }
   ],
   "source": [
    "# Check the shape of the tensors\n",
    "(three.shape), (seven.shape)"
   ]
  },
  {
   "cell_type": "code",
   "execution_count": 72,
   "metadata": {},
   "outputs": [
    {
     "data": {
      "text/plain": [
       "(3, 3)"
      ]
     },
     "execution_count": 72,
     "metadata": {},
     "output_type": "execute_result"
    }
   ],
   "source": [
    "# Check the rank of the tensors\n",
    "(three.ndim), (seven.ndim)"
   ]
  },
  {
   "cell_type": "code",
   "execution_count": 73,
   "metadata": {},
   "outputs": [
    {
     "data": {
      "text/plain": [
       "<AxesSubplot:>"
      ]
     },
     "execution_count": 73,
     "metadata": {},
     "output_type": "execute_result"
    },
    {
     "data": {
      "image/png": "[encoded data removed]",
      "text/plain": [
       "<Figure size 72x72 with 1 Axes>"
      ]
     },
     "metadata": {
      "needs_background": "light"
     },
     "output_type": "display_data"
    }
   ],
   "source": [
    "# Create the mean image of label 3 (take mean along dimension 0)\n",
    "mean3 = three.mean(0)\n",
    "show_image(mean3)"
   ]
  },
  {
   "cell_type": "code",
   "execution_count": 74,
   "metadata": {},
   "outputs": [
    {
     "data": {
      "text/plain": [
       "<AxesSubplot:>"
      ]
     },
     "execution_count": 74,
     "metadata": {},
     "output_type": "execute_result"
    },
    {
     "data": {
      "image/png": "[encoded data removed]",
      "text/plain": [
       "<Figure size 72x72 with 1 Axes>"
      ]
     },
     "metadata": {
      "needs_background": "light"
     },
     "output_type": "display_data"
    }
   ],
   "source": [
    "# Create the mean image of label 7 (take mean along dimension 0)\n",
    "mean7 = seven.mean(0)\n",
    "show_image(mean7)"
   ]
  },
  {
   "cell_type": "code",
   "execution_count": 75,
   "metadata": {},
   "outputs": [
    {
     "data": {
      "text/plain": [
       "<AxesSubplot:>"
      ]
     },
     "execution_count": 75,
     "metadata": {},
     "output_type": "execute_result"
    },
    {
     "data": {
      "image/png": "[encoded data removed]",
      "text/plain": [
       "<Figure size 72x72 with 1 Axes>"
      ]
     },
     "metadata": {
      "needs_background": "light"
     },
     "output_type": "display_data"
    }
   ],
   "source": [
    "# Take a sample three\n",
    "sample3 = three[1]\n",
    "show_image(sample3)"
   ]
  },
  {
   "cell_type": "code",
   "execution_count": 76,
   "metadata": {},
   "outputs": [
    {
     "data": {
      "text/plain": [
       "<AxesSubplot:>"
      ]
     },
     "execution_count": 76,
     "metadata": {},
     "output_type": "execute_result"
    },
    {
     "data": {
      "image/png": "[encoded data removed]",
      "text/plain": [
       "<Figure size 72x72 with 1 Axes>"
      ]
     },
     "metadata": {
      "needs_background": "light"
     },
     "output_type": "display_data"
    }
   ],
   "source": [
    "# Take a sample seven\n",
    "sample7 = seven[1]\n",
    "show_image(sample7)"
   ]
  },
  {
   "cell_type": "code",
   "execution_count": 77,
   "metadata": {},
   "outputs": [
    {
     "name": "stdout",
     "output_type": "stream",
     "text": [
      "L1 Norm : 0.11143654584884644\n",
      "L2 Norm : 0.20208320021629333\n"
     ]
    }
   ],
   "source": [
    "# For the sample 3, calculate the L1 norm and L2 norm wrt mean 3\n",
    "l1_three = (sample3 - mean3).abs().mean()\n",
    "l2_three = ((sample3 - mean3) ** 2).mean().sqrt()\n",
    "\n",
    "# Check the values of L1 norm and L2 norm\n",
    "print(f'L1 Norm : {l1_three}')\n",
    "print(f'L2 Norm : {l2_three}')"
   ]
  },
  {
   "cell_type": "code",
   "execution_count": 78,
   "metadata": {},
   "outputs": [
    {
     "name": "stdout",
     "output_type": "stream",
     "text": [
      "L1 Norm : 0.15861910581588745\n",
      "L2 Norm : 0.30210891366004944\n"
     ]
    }
   ],
   "source": [
    "# For sample 3, calculate the L1 norm and L2 norm with mean 7\n",
    "l1_seven = (sample3 - mean7).abs().mean()\n",
    "l2_seven = ((sample3 - mean7) ** 2).mean().sqrt()\n",
    "\n",
    "# Check the value of L1 norm and L2 norm\n",
    "print(f'L1 Norm : {l1_seven}')\n",
    "print(f'L2 Norm : {l2_seven}')"
   ]
  },
  {
   "cell_type": "code",
   "execution_count": 79,
   "metadata": {},
   "outputs": [
    {
     "data": {
      "text/plain": [
       "(tensor(0.1114), tensor(0.2021))"
      ]
     },
     "execution_count": 79,
     "metadata": {},
     "output_type": "execute_result"
    }
   ],
   "source": [
    "# Calculate the L1 loss and L2 loss wrt mean 3 loss using PyTorch\n",
    "F.l1_loss(sample3, mean3), F.mse_loss(sample3, mean3).sqrt()"
   ]
  },
  {
   "cell_type": "code",
   "execution_count": 80,
   "metadata": {},
   "outputs": [
    {
     "data": {
      "text/plain": [
       "(tensor(0.1586), tensor(0.3021))"
      ]
     },
     "execution_count": 80,
     "metadata": {},
     "output_type": "execute_result"
    }
   ],
   "source": [
    "# Calculate the L1 loss and L2 loss wrt mean 7 using PyTorch\n",
    "F.l1_loss(sample3, mean7), F.mse_loss(sample3, mean7).sqrt()"
   ]
  },
  {
   "cell_type": "code",
   "execution_count": 81,
   "metadata": {},
   "outputs": [
    {
     "name": "stdout",
     "output_type": "stream",
     "text": [
      "L1 Norm : 0.1854187548160553\n",
      "L2 Norm : 0.32709887623786926\n"
     ]
    }
   ],
   "source": [
    "# For sample 7, calculate the L1 and L2 norms wrt mean 3 manually\n",
    "l1_three = (sample7 - mean3).abs().mean()\n",
    "l2_three = ((sample7 - mean3) ** 2).mean().sqrt()\n",
    "\n",
    "print(f'L1 Norm : {l1_three}')\n",
    "print(f'L2 Norm : {l2_three}')"
   ]
  },
  {
   "cell_type": "code",
   "execution_count": 82,
   "metadata": {},
   "outputs": [
    {
     "name": "stdout",
     "output_type": "stream",
     "text": [
      "L1 Norm : 0.13037648797035217\n",
      "L2 Norm : 0.2584923207759857\n"
     ]
    }
   ],
   "source": [
    "# For sample 7, calculate the L1 and L2 norms wrt mean 7 manually\n",
    "l1_seven = (sample7 - mean7).abs().mean()\n",
    "l2_seven = ((sample7 - mean7) ** 2).mean().sqrt()\n",
    "\n",
    "print(f'L1 Norm : {l1_seven}')\n",
    "print(f'L2 Norm : {l2_seven}')"
   ]
  },
  {
   "cell_type": "code",
   "execution_count": 83,
   "metadata": {},
   "outputs": [
    {
     "data": {
      "text/plain": [
       "(tensor(0.1854), tensor(0.3271))"
      ]
     },
     "execution_count": 83,
     "metadata": {},
     "output_type": "execute_result"
    }
   ],
   "source": [
    "# Calculate the L1 loss and L2 loss wrt mean 3 using PyTorch\n",
    "F.l1_loss(sample7, mean3), F.mse_loss(sample7, mean3).sqrt()"
   ]
  },
  {
   "cell_type": "code",
   "execution_count": 84,
   "metadata": {},
   "outputs": [
    {
     "data": {
      "text/plain": [
       "(tensor(0.1304), tensor(0.2585))"
      ]
     },
     "execution_count": 84,
     "metadata": {},
     "output_type": "execute_result"
    }
   ],
   "source": [
    "# Calculate the L1 loss and L2 loss wrt mean 7 using PyTorch\n",
    "F.l1_loss(sample7, mean7), F.mse_loss(sample7, mean7).sqrt()"
   ]
  },
  {
   "cell_type": "code",
   "execution_count": 86,
   "metadata": {
    "scrolled": true
   },
   "outputs": [],
   "source": [
    "labels = [mean3, mean7]\n",
    "samples = [three[3], three[6], three[100], seven[0], seven[1000], seven[99], seven [11]]\n",
    "\n",
    "d = Tensor([F.mse_loss(i, j).sqrt().item() for i in samples for j in labels]).reshape(len(samples), 2)\n",
    "\n",
    "df = pd.DataFrame(data=d, columns=['L2(3)', 'L2(7)'])"
   ]
  },
  {
   "cell_type": "code",
   "execution_count": 91,
   "metadata": {},
   "outputs": [
    {
     "data": {
      "text/html": [
       "<style  type=\"text/css\" >\n",
       "#T_eb96b918_7cce_11eb_a2fe_27c9307f09bdrow0_col0,#T_eb96b918_7cce_11eb_a2fe_27c9307f09bdrow4_col1{\n",
       "            font-size:  12pt;\n",
       "            background-color:  #f7fbff;\n",
       "            color:  #000000;\n",
       "        }#T_eb96b918_7cce_11eb_a2fe_27c9307f09bdrow0_col1{\n",
       "            font-size:  12pt;\n",
       "            background-color:  #084387;\n",
       "            color:  #f1f1f1;\n",
       "        }#T_eb96b918_7cce_11eb_a2fe_27c9307f09bdrow1_col0{\n",
       "            font-size:  12pt;\n",
       "            background-color:  #f1f7fd;\n",
       "            color:  #000000;\n",
       "        }#T_eb96b918_7cce_11eb_a2fe_27c9307f09bdrow1_col1,#T_eb96b918_7cce_11eb_a2fe_27c9307f09bdrow5_col0{\n",
       "            font-size:  12pt;\n",
       "            background-color:  #08306b;\n",
       "            color:  #f1f1f1;\n",
       "        }#T_eb96b918_7cce_11eb_a2fe_27c9307f09bdrow2_col0{\n",
       "            font-size:  12pt;\n",
       "            background-color:  #72b2d8;\n",
       "            color:  #000000;\n",
       "        }#T_eb96b918_7cce_11eb_a2fe_27c9307f09bdrow2_col1{\n",
       "            font-size:  12pt;\n",
       "            background-color:  #084990;\n",
       "            color:  #f1f1f1;\n",
       "        }#T_eb96b918_7cce_11eb_a2fe_27c9307f09bdrow3_col0{\n",
       "            font-size:  12pt;\n",
       "            background-color:  #0a549e;\n",
       "            color:  #f1f1f1;\n",
       "        }#T_eb96b918_7cce_11eb_a2fe_27c9307f09bdrow3_col1{\n",
       "            font-size:  12pt;\n",
       "            background-color:  #d8e7f5;\n",
       "            color:  #000000;\n",
       "        }#T_eb96b918_7cce_11eb_a2fe_27c9307f09bdrow4_col0{\n",
       "            font-size:  12pt;\n",
       "            background-color:  #68acd5;\n",
       "            color:  #000000;\n",
       "        }#T_eb96b918_7cce_11eb_a2fe_27c9307f09bdrow5_col1{\n",
       "            font-size:  12pt;\n",
       "            background-color:  #ccdff1;\n",
       "            color:  #000000;\n",
       "        }#T_eb96b918_7cce_11eb_a2fe_27c9307f09bdrow6_col0{\n",
       "            font-size:  12pt;\n",
       "            background-color:  #97c6df;\n",
       "            color:  #000000;\n",
       "        }#T_eb96b918_7cce_11eb_a2fe_27c9307f09bdrow6_col1{\n",
       "            font-size:  12pt;\n",
       "            background-color:  #ebf3fb;\n",
       "            color:  #000000;\n",
       "        }</style><table id=\"T_eb96b918_7cce_11eb_a2fe_27c9307f09bd\" ><thead>    <tr>        <th class=\"blank level0\" ></th>        <th class=\"col_heading level0 col0\" >L2(3)</th>        <th class=\"col_heading level0 col1\" >L2(7)</th>    </tr></thead><tbody>\n",
       "                <tr>\n",
       "                        <th id=\"T_eb96b918_7cce_11eb_a2fe_27c9307f09bdlevel0_row0\" class=\"row_heading level0 row0\" >0</th>\n",
       "                        <td id=\"T_eb96b918_7cce_11eb_a2fe_27c9307f09bdrow0_col0\" class=\"data row0 col0\" >0.206432</td>\n",
       "                        <td id=\"T_eb96b918_7cce_11eb_a2fe_27c9307f09bdrow0_col1\" class=\"data row0 col1\" >0.316974</td>\n",
       "            </tr>\n",
       "            <tr>\n",
       "                        <th id=\"T_eb96b918_7cce_11eb_a2fe_27c9307f09bdlevel0_row1\" class=\"row_heading level0 row1\" >1</th>\n",
       "                        <td id=\"T_eb96b918_7cce_11eb_a2fe_27c9307f09bdrow1_col0\" class=\"data row1 col0\" >0.210369</td>\n",
       "                        <td id=\"T_eb96b918_7cce_11eb_a2fe_27c9307f09bdrow1_col1\" class=\"data row1 col1\" >0.325873</td>\n",
       "            </tr>\n",
       "            <tr>\n",
       "                        <th id=\"T_eb96b918_7cce_11eb_a2fe_27c9307f09bdlevel0_row2\" class=\"row_heading level0 row2\" >2</th>\n",
       "                        <td id=\"T_eb96b918_7cce_11eb_a2fe_27c9307f09bdrow2_col0\" class=\"data row2 col0\" >0.260449</td>\n",
       "                        <td id=\"T_eb96b918_7cce_11eb_a2fe_27c9307f09bdrow2_col1\" class=\"data row2 col1\" >0.313991</td>\n",
       "            </tr>\n",
       "            <tr>\n",
       "                        <th id=\"T_eb96b918_7cce_11eb_a2fe_27c9307f09bdlevel0_row3\" class=\"row_heading level0 row3\" >3</th>\n",
       "                        <td id=\"T_eb96b918_7cce_11eb_a2fe_27c9307f09bdrow3_col0\" class=\"data row3 col0\" >0.303062</td>\n",
       "                        <td id=\"T_eb96b918_7cce_11eb_a2fe_27c9307f09bdrow3_col1\" class=\"data row3 col1\" >0.219570</td>\n",
       "            </tr>\n",
       "            <tr>\n",
       "                        <th id=\"T_eb96b918_7cce_11eb_a2fe_27c9307f09bdlevel0_row4\" class=\"row_heading level0 row4\" >4</th>\n",
       "                        <td id=\"T_eb96b918_7cce_11eb_a2fe_27c9307f09bdrow4_col0\" class=\"data row4 col0\" >0.263601</td>\n",
       "                        <td id=\"T_eb96b918_7cce_11eb_a2fe_27c9307f09bdrow4_col1\" class=\"data row4 col1\" >0.199486</td>\n",
       "            </tr>\n",
       "            <tr>\n",
       "                        <th id=\"T_eb96b918_7cce_11eb_a2fe_27c9307f09bdlevel0_row5\" class=\"row_heading level0 row5\" >5</th>\n",
       "                        <td id=\"T_eb96b918_7cce_11eb_a2fe_27c9307f09bdrow5_col0\" class=\"data row5 col0\" >0.318628</td>\n",
       "                        <td id=\"T_eb96b918_7cce_11eb_a2fe_27c9307f09bdrow5_col1\" class=\"data row5 col1\" >0.227463</td>\n",
       "            </tr>\n",
       "            <tr>\n",
       "                        <th id=\"T_eb96b918_7cce_11eb_a2fe_27c9307f09bdlevel0_row6\" class=\"row_heading level0 row6\" >6</th>\n",
       "                        <td id=\"T_eb96b918_7cce_11eb_a2fe_27c9307f09bdrow6_col0\" class=\"data row6 col0\" >0.250606</td>\n",
       "                        <td id=\"T_eb96b918_7cce_11eb_a2fe_27c9307f09bdrow6_col1\" class=\"data row6 col1\" >0.206986</td>\n",
       "            </tr>\n",
       "    </tbody></table>"
      ],
      "text/plain": [
       "<pandas.io.formats.style.Styler at 0x7f0f642a8b50>"
      ]
     },
     "execution_count": 91,
     "metadata": {},
     "output_type": "execute_result"
    }
   ],
   "source": [
    "df.style.set_properties(**{'font-size' : '12pt'}).background_gradient('Blues')"
   ]
  }
 ],
 "metadata": {
  "kernelspec": {
   "display_name": "Python 3",
   "language": "python",
   "name": "python3"
  },
  "language_info": {
   "codemirror_mode": {
    "name": "ipython",
    "version": 3
   },
   "file_extension": ".py",
   "mimetype": "text/x-python",
   "name": "python",
   "nbconvert_exporter": "python",
   "pygments_lexer": "ipython3",
   "version": "3.8.8"
  }
 },
 "nbformat": 4,
 "nbformat_minor": 4
}
