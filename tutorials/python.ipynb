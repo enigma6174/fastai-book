{
 "cells": [
  {
   "cell_type": "code",
   "execution_count": 17,
   "metadata": {},
   "outputs": [],
   "source": [
    "# Import required files\n",
    "import math\n",
    "from platform import python_version"
   ]
  },
  {
   "cell_type": "markdown",
   "metadata": {},
   "source": [
    "### Check the version of Python running this script"
   ]
  },
  {
   "cell_type": "code",
   "execution_count": 18,
   "metadata": {},
   "outputs": [
    {
     "name": "stdout",
     "output_type": "stream",
     "text": [
      "version : 3.8.8\n"
     ]
    }
   ],
   "source": [
    "print(f'version : {python_version()}')"
   ]
  },
  {
   "cell_type": "markdown",
   "metadata": {},
   "source": [
    "### Strings In Python"
   ]
  },
  {
   "cell_type": "code",
   "execution_count": 5,
   "metadata": {},
   "outputs": [
    {
     "name": "stdout",
     "output_type": "stream",
     "text": [
      "hello bobby\n",
      "hello bobby\n",
      "hello bobby\n"
     ]
    }
   ],
   "source": [
    "# f-strings with initialized variable\n",
    "name = \"bobby\"\n",
    "message = f\"hello {name}\"\n",
    "\n",
    "print(message)\n",
    "\n",
    "# f-string with updated variables\n",
    "name = \"rose\"\n",
    "print(message)\n",
    "\n",
    "name = \"chris\"\n",
    "print(message)"
   ]
  },
  {
   "cell_type": "code",
   "execution_count": 6,
   "metadata": {},
   "outputs": [
    {
     "name": "stdout",
     "output_type": "stream",
     "text": [
      "WARNING!! FIRE\n",
      "WARNING!! FIRE\n",
      "WARNING!! FIRE\n"
     ]
    }
   ],
   "source": [
    "# String formatter with initialized variable\n",
    "alert = \"FIRE\"\n",
    "warning = \"WARNING!! {}\".format(alert)\n",
    "\n",
    "print(warning)\n",
    "\n",
    "# String formatter with updated variable\n",
    "alert = \"WATER\"\n",
    "print(warning)\n",
    "\n",
    "alert = \"CRASH\"\n",
    "print(warning)"
   ]
  },
  {
   "cell_type": "code",
   "execution_count": 8,
   "metadata": {},
   "outputs": [
    {
     "name": "stdout",
     "output_type": "stream",
     "text": [
      "WARNING!! FIRE\n",
      "WARNING!! WATER\n",
      "WARNING!! CRASH\n"
     ]
    }
   ],
   "source": [
    "# String format with updated variable\n",
    "warning = \"WARNING!! {}\"\n",
    "\n",
    "print(warning.format(\"FIRE\"))\n",
    "print(warning.format(\"WATER\"))\n",
    "print(warning.format(\"CRASH\"))\n"
   ]
  },
  {
   "cell_type": "markdown",
   "metadata": {},
   "source": [
    "### Working With User Input"
   ]
  },
  {
   "cell_type": "code",
   "execution_count": 9,
   "metadata": {},
   "outputs": [
    {
     "name": "stdout",
     "output_type": "stream",
     "text": [
      "enter a string : hello\n",
      "reverse of hello is olleh\n"
     ]
    }
   ],
   "source": [
    "# Take the user input\n",
    "buffer = input(\"enter a string : \")\n",
    "\n",
    "# Reverse the string\n",
    "reffub = \"\".join(reversed(buffer))\n",
    "\n",
    "# Create the resultant string and print\n",
    "result = f\"reverse of {buffer} is {reffub}\"\n",
    "print(result)"
   ]
  },
  {
   "cell_type": "code",
   "execution_count": 11,
   "metadata": {},
   "outputs": [
    {
     "name": "stdout",
     "output_type": "stream",
     "text": [
      "enter number_1 : 23\n",
      "enter number_2 : 40\n",
      "23 + 40 is 2340\n"
     ]
    }
   ],
   "source": [
    "# Input always returns string by default\n",
    "num_1 = input(\"enter number_1 : \")\n",
    "num_2 = input(\"enter number_2 : \")\n",
    "\n",
    "# Add the numbers and print the result\n",
    "print(f\"{num_1} + {num_2} is {num_1 + num_2}\")"
   ]
  },
  {
   "cell_type": "code",
   "execution_count": 13,
   "metadata": {},
   "outputs": [
    {
     "name": "stdout",
     "output_type": "stream",
     "text": [
      "enter number_1 : 23\n",
      "enter number_2 : 40\n",
      "23 + 40 is 63\n",
      "23 * 40 is 920\n"
     ]
    }
   ],
   "source": [
    "# Typecast input to integer for integer operations\n",
    "num_1 = int(input(\"enter number_1 : \"))\n",
    "num_2 = int(input(\"enter number_2 : \"))\n",
    "\n",
    "# Perform basic integer operations and print the result\n",
    "print(f\"{num_1} + {num_2} is {num_1 + num_2}\")\n",
    "print(f\"{num_1} * {num_2} is {num_1 * num_2}\")"
   ]
  },
  {
   "cell_type": "code",
   "execution_count": 24,
   "metadata": {},
   "outputs": [
    {
     "name": "stdout",
     "output_type": "stream",
     "text": [
      "enter fraction_1 : 75.1419\n",
      "75.1419 / 3.141592653589793 : 23.918409636633783\n",
      "75.1419 / 3.141592653589793 rounded to 2 decimal places : 23.92\n",
      "3.141592653589793 rounded to 4 decimal places : 3.14\n"
     ]
    }
   ],
   "source": [
    "# Get the value of Pi\n",
    "pi = math.pi\n",
    "\n",
    "# Typecast input to float for floating point operations\n",
    "frac_1 = float(input(\"enter fraction_1 : \"))\n",
    "\n",
    "# Perform some floating point operation and print the result\n",
    "print(f\"{frac_1} / {pi} : {frac_1 / pi}\")\n",
    "print(f\"{frac_1} / {pi} rounded to 2 decimal places : {(frac_1 / pi):.2f}\")\n",
    "print(f\"{pi} rounded to 4 decimal places : {pi:.2f}\")"
   ]
  },
  {
   "cell_type": "code",
   "execution_count": null,
   "metadata": {},
   "outputs": [],
   "source": []
  }
 ],
 "metadata": {
  "kernelspec": {
   "display_name": "Python 3",
   "language": "python",
   "name": "python3"
  },
  "language_info": {
   "codemirror_mode": {
    "name": "ipython",
    "version": 3
   },
   "file_extension": ".py",
   "mimetype": "text/x-python",
   "name": "python",
   "nbconvert_exporter": "python",
   "pygments_lexer": "ipython3",
   "version": "3.8.8"
  }
 },
 "nbformat": 4,
 "nbformat_minor": 4
}
